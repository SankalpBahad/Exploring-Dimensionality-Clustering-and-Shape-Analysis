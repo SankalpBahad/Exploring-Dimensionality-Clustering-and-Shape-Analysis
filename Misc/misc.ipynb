{
 "cells": [
  {
   "cell_type": "markdown",
   "metadata": {},
   "source": [
    "# Question 4"
   ]
  },
  {
   "cell_type": "markdown",
   "metadata": {},
   "source": [
    "## 4.1 Problem 4.1"
   ]
  },
  {
   "cell_type": "markdown",
   "metadata": {},
   "source": [
    "### You have been provided an dataset of 99 different shapes KIMIA-99. The task is to find the align the remaining shapes based on the orientation of the given template shape."
   ]
  },
  {
   "cell_type": "code",
   "execution_count": 9,
   "metadata": {},
   "outputs": [
    {
     "data": {
      "text/plain": [
       "array([[[255, 255, 255],\n",
       "        [255, 255, 255],\n",
       "        [255, 255, 255],\n",
       "        ...,\n",
       "        [255, 255, 255],\n",
       "        [255, 255, 255],\n",
       "        [255, 255, 255]],\n",
       "\n",
       "       [[255, 255, 255],\n",
       "        [255, 255, 255],\n",
       "        [255, 255, 255],\n",
       "        ...,\n",
       "        [255, 255, 255],\n",
       "        [255, 255, 255],\n",
       "        [255, 255, 255]],\n",
       "\n",
       "       [[255, 255, 255],\n",
       "        [255, 255, 255],\n",
       "        [255, 255, 255],\n",
       "        ...,\n",
       "        [255, 255, 255],\n",
       "        [255, 255, 255],\n",
       "        [255, 255, 255]],\n",
       "\n",
       "       ...,\n",
       "\n",
       "       [[255, 255, 255],\n",
       "        [255, 255, 255],\n",
       "        [255, 255, 255],\n",
       "        ...,\n",
       "        [255, 255, 255],\n",
       "        [255, 255, 255],\n",
       "        [255, 255, 255]],\n",
       "\n",
       "       [[255, 255, 255],\n",
       "        [255, 255, 255],\n",
       "        [255, 255, 255],\n",
       "        ...,\n",
       "        [255, 255, 255],\n",
       "        [255, 255, 255],\n",
       "        [255, 255, 255]],\n",
       "\n",
       "       [[255, 255, 255],\n",
       "        [255, 255, 255],\n",
       "        [255, 255, 255],\n",
       "        ...,\n",
       "        [255, 255, 255],\n",
       "        [255, 255, 255],\n",
       "        [255, 255, 255]]], dtype=uint8)"
      ]
     },
     "execution_count": 9,
     "metadata": {},
     "output_type": "execute_result"
    }
   ],
   "source": [
    "import cv2\n",
    "import numpy as np\n",
    "import os\n",
    "\n",
    "template_shape = cv2.imread('KIMIA dataset/bonefishes.png', cv2.IMREAD_GRAYSCALE)\n",
    "shapes_dataset=[]\n",
    "folder_path = 'KIMIA dataset'\n",
    "for filename in os.listdir(folder_path):\n",
    "    image_path = os.path.join(folder_path, filename)\n",
    "    img = cv2.imread(image_path)\n",
    "    if img is not None:\n",
    "        shapes_dataset.append(img)"
   ]
  },
  {
   "cell_type": "code",
   "execution_count": null,
   "metadata": {},
   "outputs": [],
   "source": [
    "import cv2\n",
    "import numpy as np\n",
    "from sklearn.decomposition import PCA\n",
    "import matplotlib.pyplot as plt\n",
    "\n",
    "template_shape = cv2.imread('KIMIA dataset/fish30.png')\n",
    "\n",
    "plt.figure(figsize=(3, 3))\n",
    "plt.imshow(cv2.cvtColor(template_shape, cv2.COLOR_BGR2RGB))\n",
    "plt.axis('off')\n",
    "plt.show()\n",
    "\n",
    "_, binary_mask = cv2.threshold(template_shape, 1, 255, cv2.THRESH_BINARY)\n",
    "\n",
    "black_pixel_coordinates_template = np.column_stack(np.where(binary_mask == 0))\n",
    "pca = PCA(n_components=1)\n",
    "pca.fit_transform(black_pixel_coordinates_template)\n",
    "\n",
    "eig_1=pca.components_[0]\n",
    "\n",
    "for second_image in shapes_dataset:\n",
    "\n",
    "    _, binary_mask_second = cv2.threshold(second_image, 1, 255, cv2.THRESH_BINARY)\n",
    "\n",
    "    black_pixel_coordinates_template_second = np.column_stack(np.where(binary_mask_second == 0))\n",
    "    pca = PCA(n_components=1)\n",
    "    pca.fit_transform(black_pixel_coordinates_template_second)\n",
    "\n",
    "    eig_2=pca.components_[0]\n",
    "\n",
    "    eig1_normalized = eig_1 / np.linalg.norm(eig_1)\n",
    "    eig2_normalized = eig_2 / np.linalg.norm(eig_2)\n",
    "\n",
    "    dot_product = np.dot(eig1_normalized, eig2_normalized)\n",
    "\n",
    "    angle_radians = np.arccos(dot_product)\n",
    "\n",
    "    angle_degrees = np.degrees(angle_radians)\n",
    "\n",
    "    height, width = second_image.shape[:2]\n",
    "\n",
    "    rotation_matrix = cv2.getRotationMatrix2D((width / 2, height / 2), 180-angle_degrees, 1.0)\n",
    "\n",
    "    rotated_image = cv2.warpAffine(second_image, rotation_matrix, (width, height))\n",
    "\n",
    "    plt.figure(figsize=(3, 3))\n",
    "    plt.imshow(cv2.cvtColor(rotated_image, cv2.COLOR_BGR2RGB))\n",
    "    plt.axis('off')\n",
    "    plt.show()\n"
   ]
  },
  {
   "cell_type": "markdown",
   "metadata": {},
   "source": [
    "## 4.3 Problem 4.3"
   ]
  },
  {
   "cell_type": "markdown",
   "metadata": {},
   "source": [
    "### The data you will be given is in the form of an array, where each element, X, represents a point in the 2D color space. The data has been generated from 7 distinct Gaussian color components. The list of subtasks is given below. \n",
    "\n",
    "### • Find the likely color components which generate the dataset. \n",
    "\n",
    "### • Create a function which would take in an input of (number of components (an integer, n), means (an numpy array of shape (n, 2)), covariances (a numpy array of shape n, 2, 2)), and generates a sample dataset with the n likely components described by the above components."
   ]
  },
  {
   "cell_type": "code",
   "execution_count": 60,
   "metadata": {},
   "outputs": [],
   "source": [
    "import numpy as np\n",
    "import matplotlib.pyplot as plt\n",
    "from sklearn.mixture import GaussianMixture\n",
    "import pickle"
   ]
  },
  {
   "cell_type": "code",
   "execution_count": 66,
   "metadata": {},
   "outputs": [
    {
     "data": {
      "image/png": "[encoded data removed]",
      "text/plain": [
       "<Figure size 640x480 with 1 Axes>"
      ]
     },
     "metadata": {},
     "output_type": "display_data"
    }
   ],
   "source": [
    "with open('SMAI-Dataset-problem-4.3/colors.pkl', 'rb') as file:\n",
    "    data = pickle.load(file)\n",
    "\n",
    "plt.scatter(data[:, 0], data[:, 1], s=5)\n",
    "plt.title('Provided Dataset')\n",
    "plt.show()"
   ]
  },
  {
   "cell_type": "code",
   "execution_count": 67,
   "metadata": {},
   "outputs": [],
   "source": [
    "n_components = 7\n",
    "\n",
    "gmm = GaussianMixture(n_components=n_components, random_state=0)\n",
    "gmm.fit(data)\n",
    "\n",
    "estimated_means = gmm.means_\n",
    "estimated_covariances = gmm.covariances_"
   ]
  },
  {
   "cell_type": "code",
   "execution_count": 72,
   "metadata": {},
   "outputs": [
    {
     "data": {
      "image/png": "[encoded data removed]",
      "text/plain": [
       "<Figure size 800x600 with 1 Axes>"
      ]
     },
     "metadata": {},
     "output_type": "display_data"
    }
   ],
   "source": [
    "def generate_sample_dataset(n, means, covariances, num_samples=100):\n",
    "    sample_data = np.zeros((n * num_samples, 2))\n",
    "    \n",
    "    for i in range(n):\n",
    "        samples = np.random.multivariate_normal(means[i], covariances[i], num_samples)\n",
    "        sample_data[i * num_samples:(i + 1) * num_samples, :] = samples\n",
    "    \n",
    "    return sample_data\n",
    "\n",
    "num_samples=100\n",
    "sample_dataset = generate_sample_dataset(n_components, estimated_means, estimated_covariances)\n",
    "\n",
    "colors = ['b', 'g', 'r', 'c', 'm', 'y', 'k']\n",
    "\n",
    "plt.figure(figsize=(8, 6))\n",
    "for i in range(n_components):\n",
    "    cluster_data = sample_dataset[i * num_samples:(i + 1) * num_samples, :]\n",
    "    plt.scatter(cluster_data[:, 0], cluster_data[:, 1], s=20, label=f'Cluster {i + 1}', c=colors[i])\n",
    "\n",
    "plt.title('Generated Sample Dataset')\n",
    "plt.show()\n"
   ]
  }
 ],
 "metadata": {
  "kernelspec": {
   "display_name": "Python 3",
   "language": "python",
   "name": "python3"
  },
  "language_info": {
   "codemirror_mode": {
    "name": "ipython",
    "version": 3
   },
   "file_extension": ".py",
   "mimetype": "text/x-python",
   "name": "python",
   "nbconvert_exporter": "python",
   "pygments_lexer": "ipython3",
   "version": "3.8.10"
  },
  "orig_nbformat": 4
 },
 "nbformat": 4,
 "nbformat_minor": 2
}
